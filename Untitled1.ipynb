{
 "cells": [
  {
   "cell_type": "code",
   "execution_count": 1,
   "metadata": {},
   "outputs": [
    {
     "name": "stderr",
     "output_type": "stream",
     "text": [
      "Using TensorFlow backend.\n"
     ]
    }
   ],
   "source": [
    "import numpy as np\n",
    "import pandas as pd\n",
    "import keras\n",
    "import matplotlib.pyplot as plt\n",
    "import tensorflow as tf\n",
    "import csv"
   ]
  },
  {
   "cell_type": "code",
   "execution_count": 7,
   "metadata": {},
   "outputs": [],
   "source": [
    "df = pd.read_csv('data.csv')"
   ]
  },
  {
   "cell_type": "code",
   "execution_count": 5,
   "metadata": {},
   "outputs": [
    {
     "data": {
      "text/html": [
       "<div>\n",
       "<style scoped>\n",
       "    .dataframe tbody tr th:only-of-type {\n",
       "        vertical-align: middle;\n",
       "    }\n",
       "\n",
       "    .dataframe tbody tr th {\n",
       "        vertical-align: top;\n",
       "    }\n",
       "\n",
       "    .dataframe thead th {\n",
       "        text-align: right;\n",
       "    }\n",
       "</style>\n",
       "<table border=\"1\" class=\"dataframe\">\n",
       "  <thead>\n",
       "    <tr style=\"text-align: right;\">\n",
       "      <th></th>\n",
       "      <th>URLs</th>\n",
       "      <th>Headline</th>\n",
       "      <th>Body</th>\n",
       "      <th>Label</th>\n",
       "    </tr>\n",
       "  </thead>\n",
       "  <tbody>\n",
       "    <tr>\n",
       "      <td>0</td>\n",
       "      <td>http://www.bbc.com/news/world-us-canada-414191...</td>\n",
       "      <td>Four ways Bob Corker skewered Donald Trump</td>\n",
       "      <td>Image copyright Getty Images\\nOn Sunday mornin...</td>\n",
       "      <td>1</td>\n",
       "    </tr>\n",
       "    <tr>\n",
       "      <td>1</td>\n",
       "      <td>https://www.reuters.com/article/us-filmfestiva...</td>\n",
       "      <td>Linklater's war veteran comedy speaks to moder...</td>\n",
       "      <td>LONDON (Reuters) - “Last Flag Flying”, a comed...</td>\n",
       "      <td>1</td>\n",
       "    </tr>\n",
       "    <tr>\n",
       "      <td>2</td>\n",
       "      <td>https://www.nytimes.com/2017/10/09/us/politics...</td>\n",
       "      <td>Trump’s Fight With Corker Jeopardizes His Legi...</td>\n",
       "      <td>The feud broke into public view last week when...</td>\n",
       "      <td>1</td>\n",
       "    </tr>\n",
       "    <tr>\n",
       "      <td>3</td>\n",
       "      <td>https://www.reuters.com/article/us-mexico-oil-...</td>\n",
       "      <td>Egypt's Cheiron wins tie-up with Pemex for Mex...</td>\n",
       "      <td>MEXICO CITY (Reuters) - Egypt’s Cheiron Holdin...</td>\n",
       "      <td>1</td>\n",
       "    </tr>\n",
       "    <tr>\n",
       "      <td>4</td>\n",
       "      <td>http://www.cnn.com/videos/cnnmoney/2017/10/08/...</td>\n",
       "      <td>Jason Aldean opens 'SNL' with Vegas tribute</td>\n",
       "      <td>Country singer Jason Aldean, who was performin...</td>\n",
       "      <td>1</td>\n",
       "    </tr>\n",
       "  </tbody>\n",
       "</table>\n",
       "</div>"
      ],
      "text/plain": [
       "                                                URLs  \\\n",
       "0  http://www.bbc.com/news/world-us-canada-414191...   \n",
       "1  https://www.reuters.com/article/us-filmfestiva...   \n",
       "2  https://www.nytimes.com/2017/10/09/us/politics...   \n",
       "3  https://www.reuters.com/article/us-mexico-oil-...   \n",
       "4  http://www.cnn.com/videos/cnnmoney/2017/10/08/...   \n",
       "\n",
       "                                            Headline  \\\n",
       "0         Four ways Bob Corker skewered Donald Trump   \n",
       "1  Linklater's war veteran comedy speaks to moder...   \n",
       "2  Trump’s Fight With Corker Jeopardizes His Legi...   \n",
       "3  Egypt's Cheiron wins tie-up with Pemex for Mex...   \n",
       "4        Jason Aldean opens 'SNL' with Vegas tribute   \n",
       "\n",
       "                                                Body  Label  \n",
       "0  Image copyright Getty Images\\nOn Sunday mornin...      1  \n",
       "1  LONDON (Reuters) - “Last Flag Flying”, a comed...      1  \n",
       "2  The feud broke into public view last week when...      1  \n",
       "3  MEXICO CITY (Reuters) - Egypt’s Cheiron Holdin...      1  \n",
       "4  Country singer Jason Aldean, who was performin...      1  "
      ]
     },
     "execution_count": 5,
     "metadata": {},
     "output_type": "execute_result"
    }
   ],
   "source": [
    "df.head()"
   ]
  },
  {
   "cell_type": "code",
   "execution_count": 8,
   "metadata": {},
   "outputs": [
    {
     "data": {
      "text/plain": [
       "RangeIndex(start=0, stop=4009, step=1)"
      ]
     },
     "execution_count": 8,
     "metadata": {},
     "output_type": "execute_result"
    }
   ],
   "source": [
    "df.index"
   ]
  },
  {
   "cell_type": "code",
   "execution_count": 9,
   "metadata": {},
   "outputs": [
    {
     "data": {
      "text/plain": [
       "(4009, 4)"
      ]
     },
     "execution_count": 9,
     "metadata": {},
     "output_type": "execute_result"
    }
   ],
   "source": [
    "df.shape"
   ]
  },
  {
   "cell_type": "code",
   "execution_count": 10,
   "metadata": {},
   "outputs": [],
   "source": [
    "import pandas as pd\n",
    "import numpy as np\n",
    "import matplotlib.pyplot as plt\n",
    "from sklearn.model_selection import train_test_split\n",
    "from sklearn.feature_extraction.text import TfidfVectorizer\n",
    "import itertools\n",
    "from sklearn.naive_bayes import MultinomialNB\n",
    "from sklearn import metrics"
   ]
  },
  {
   "cell_type": "code",
   "execution_count": 12,
   "metadata": {},
   "outputs": [],
   "source": [
    "df = pd.read_csv('data.csv')"
   ]
  },
  {
   "cell_type": "code",
   "execution_count": 13,
   "metadata": {},
   "outputs": [
    {
     "name": "stderr",
     "output_type": "stream",
     "text": [
      "C:\\Users\\Hp\\Documents\\oplllllllllll\\lib\\site-packages\\ipykernel_launcher.py:3: SettingWithCopyWarning: \n",
      "A value is trying to be set on a copy of a slice from a DataFrame\n",
      "\n",
      "See the caveats in the documentation: http://pandas.pydata.org/pandas-docs/stable/user_guide/indexing.html#returning-a-view-versus-a-copy\n",
      "  This is separate from the ipykernel package so we can avoid doing imports until\n"
     ]
    }
   ],
   "source": [
    "for i in range(0,df.shape[0]-1):\n",
    "    if(df.Body.isnull()[i]):\n",
    "        df.Body[i] = df.Headline[i]\n",
    "        \n",
    "y = df.Label\n",
    "X = df.Body"
   ]
  },
  {
   "cell_type": "code",
   "execution_count": 14,
   "metadata": {},
   "outputs": [],
   "source": [
    "X_train,X_test,y_train,y_test = train_test_split(X,y,test_size = 0.2)"
   ]
  },
  {
   "cell_type": "code",
   "execution_count": 15,
   "metadata": {},
   "outputs": [],
   "source": [
    "tfidf_vect = TfidfVectorizer(stop_words = 'english')\n",
    "tfidf_train = tfidf_vect.fit_transform(X_train)\n",
    "tfidf_test = tfidf_vect.transform(X_test)\n",
    "tfidf_df = pd.DataFrame(tfidf_train.A, columns=tfidf_vect.get_feature_names())"
   ]
  },
  {
   "cell_type": "code",
   "execution_count": 16,
   "metadata": {},
   "outputs": [
    {
     "name": "stdout",
     "output_type": "stream",
     "text": [
      "accuracy:   0.953\n",
      "[[422  22]\n",
      " [ 16 342]]\n"
     ]
    }
   ],
   "source": [
    "clf = MultinomialNB() \n",
    "clf.fit(tfidf_train, y_train)                      \n",
    "pred = clf.predict(tfidf_test)                 \n",
    "score = metrics.accuracy_score(y_test, pred)\n",
    "print(\"accuracy:   %0.3f\" % score)\n",
    "cm = metrics.confusion_matrix(y_test, pred)\n",
    "print(cm)"
   ]
  },
  {
   "cell_type": "code",
   "execution_count": 2,
   "metadata": {},
   "outputs": [
    {
     "name": "stderr",
     "output_type": "stream",
     "text": [
      "Using TensorFlow backend.\n"
     ]
    }
   ],
   "source": [
    "from IPython.display import display, set_matplotlib_formats\n",
    "from collections import Counter\n",
    "from itertools import chain\n",
    "from keras.layers import Dense,Embedding,LSTM,Dropout\n",
    "from keras.models import Sequential\n",
    "from keras.preprocessing.sequence import pad_sequences\n",
    "from keras.preprocessing.text import Tokenizer\n",
    "from nltk.corpus import stopwords\n",
    "from sklearn.metrics import classification_report,confusion_matrix,accuracy_score\n",
    "from sklearn.model_selection import train_test_split\n",
    "import gensim\n",
    "import matplotlib.pyplot as plt\n",
    "import numpy as np\n",
    "import pandas as pd\n",
    "import re\n",
    "import seaborn as sns\n",
    "import warnings\n",
    "set_matplotlib_formats('svg')\n",
    "warnings.filterwarnings('ignore')\n",
    "\n",
    "import os\n",
    "for dirname, _, filenames in os.walk('/kaggle/input'):\n",
    "    for filename in filenames:\n",
    "        print(os.path.join(dirname, filename))"
   ]
  },
  {
   "cell_type": "code",
   "execution_count": 3,
   "metadata": {},
   "outputs": [
    {
     "data": {
      "text/html": [
       "<div>\n",
       "<style scoped>\n",
       "    .dataframe tbody tr th:only-of-type {\n",
       "        vertical-align: middle;\n",
       "    }\n",
       "\n",
       "    .dataframe tbody tr th {\n",
       "        vertical-align: top;\n",
       "    }\n",
       "\n",
       "    .dataframe thead th {\n",
       "        text-align: right;\n",
       "    }\n",
       "</style>\n",
       "<table border=\"1\" class=\"dataframe\">\n",
       "  <thead>\n",
       "    <tr style=\"text-align: right;\">\n",
       "      <th></th>\n",
       "      <th>URLs</th>\n",
       "      <th>Headline</th>\n",
       "      <th>Body</th>\n",
       "      <th>Label</th>\n",
       "    </tr>\n",
       "  </thead>\n",
       "  <tbody>\n",
       "    <tr>\n",
       "      <td>0</td>\n",
       "      <td>http://www.bbc.com/news/world-us-canada-414191...</td>\n",
       "      <td>Four ways Bob Corker skewered Donald Trump</td>\n",
       "      <td>Image copyright Getty Images\\nOn Sunday mornin...</td>\n",
       "      <td>1</td>\n",
       "    </tr>\n",
       "    <tr>\n",
       "      <td>1</td>\n",
       "      <td>https://www.reuters.com/article/us-filmfestiva...</td>\n",
       "      <td>Linklater's war veteran comedy speaks to moder...</td>\n",
       "      <td>LONDON (Reuters) - “Last Flag Flying”, a comed...</td>\n",
       "      <td>1</td>\n",
       "    </tr>\n",
       "    <tr>\n",
       "      <td>2</td>\n",
       "      <td>https://www.nytimes.com/2017/10/09/us/politics...</td>\n",
       "      <td>Trump’s Fight With Corker Jeopardizes His Legi...</td>\n",
       "      <td>The feud broke into public view last week when...</td>\n",
       "      <td>1</td>\n",
       "    </tr>\n",
       "    <tr>\n",
       "      <td>3</td>\n",
       "      <td>https://www.reuters.com/article/us-mexico-oil-...</td>\n",
       "      <td>Egypt's Cheiron wins tie-up with Pemex for Mex...</td>\n",
       "      <td>MEXICO CITY (Reuters) - Egypt’s Cheiron Holdin...</td>\n",
       "      <td>1</td>\n",
       "    </tr>\n",
       "    <tr>\n",
       "      <td>4</td>\n",
       "      <td>http://www.cnn.com/videos/cnnmoney/2017/10/08/...</td>\n",
       "      <td>Jason Aldean opens 'SNL' with Vegas tribute</td>\n",
       "      <td>Country singer Jason Aldean, who was performin...</td>\n",
       "      <td>1</td>\n",
       "    </tr>\n",
       "  </tbody>\n",
       "</table>\n",
       "</div>"
      ],
      "text/plain": [
       "                                                URLs  \\\n",
       "0  http://www.bbc.com/news/world-us-canada-414191...   \n",
       "1  https://www.reuters.com/article/us-filmfestiva...   \n",
       "2  https://www.nytimes.com/2017/10/09/us/politics...   \n",
       "3  https://www.reuters.com/article/us-mexico-oil-...   \n",
       "4  http://www.cnn.com/videos/cnnmoney/2017/10/08/...   \n",
       "\n",
       "                                            Headline  \\\n",
       "0         Four ways Bob Corker skewered Donald Trump   \n",
       "1  Linklater's war veteran comedy speaks to moder...   \n",
       "2  Trump’s Fight With Corker Jeopardizes His Legi...   \n",
       "3  Egypt's Cheiron wins tie-up with Pemex for Mex...   \n",
       "4        Jason Aldean opens 'SNL' with Vegas tribute   \n",
       "\n",
       "                                                Body  Label  \n",
       "0  Image copyright Getty Images\\nOn Sunday mornin...      1  \n",
       "1  LONDON (Reuters) - “Last Flag Flying”, a comed...      1  \n",
       "2  The feud broke into public view last week when...      1  \n",
       "3  MEXICO CITY (Reuters) - Egypt’s Cheiron Holdin...      1  \n",
       "4  Country singer Jason Aldean, who was performin...      1  "
      ]
     },
     "execution_count": 3,
     "metadata": {},
     "output_type": "execute_result"
    }
   ],
   "source": [
    "df = pd.read_csv('data.csv')\n",
    "df.head()"
   ]
  },
  {
   "cell_type": "code",
   "execution_count": 4,
   "metadata": {},
   "outputs": [
    {
     "data": {
      "text/html": [
       "<div>\n",
       "<style scoped>\n",
       "    .dataframe tbody tr th:only-of-type {\n",
       "        vertical-align: middle;\n",
       "    }\n",
       "\n",
       "    .dataframe tbody tr th {\n",
       "        vertical-align: top;\n",
       "    }\n",
       "\n",
       "    .dataframe thead th {\n",
       "        text-align: right;\n",
       "    }\n",
       "</style>\n",
       "<table border=\"1\" class=\"dataframe\">\n",
       "  <thead>\n",
       "    <tr style=\"text-align: right;\">\n",
       "      <th>Label</th>\n",
       "      <th>0</th>\n",
       "      <th>1</th>\n",
       "    </tr>\n",
       "    <tr>\n",
       "      <th>website</th>\n",
       "      <th></th>\n",
       "      <th></th>\n",
       "    </tr>\n",
       "  </thead>\n",
       "  <tbody>\n",
       "    <tr>\n",
       "      <td>abcnews.go.com</td>\n",
       "      <td>0</td>\n",
       "      <td>57</td>\n",
       "    </tr>\n",
       "    <tr>\n",
       "      <td>api.content-ad.net</td>\n",
       "      <td>2</td>\n",
       "      <td>0</td>\n",
       "    </tr>\n",
       "    <tr>\n",
       "      <td>beforeitsnews.com</td>\n",
       "      <td>1694</td>\n",
       "      <td>0</td>\n",
       "    </tr>\n",
       "    <tr>\n",
       "      <td>bleacherreport.com</td>\n",
       "      <td>0</td>\n",
       "      <td>8</td>\n",
       "    </tr>\n",
       "    <tr>\n",
       "      <td>clarivate.com</td>\n",
       "      <td>0</td>\n",
       "      <td>3</td>\n",
       "    </tr>\n",
       "    <tr>\n",
       "      <td>cnn.it</td>\n",
       "      <td>0</td>\n",
       "      <td>1</td>\n",
       "    </tr>\n",
       "    <tr>\n",
       "      <td>dailybuzzlive.com</td>\n",
       "      <td>99</td>\n",
       "      <td>0</td>\n",
       "    </tr>\n",
       "    <tr>\n",
       "      <td>edition.cnn.com</td>\n",
       "      <td>0</td>\n",
       "      <td>16</td>\n",
       "    </tr>\n",
       "    <tr>\n",
       "      <td>inhealth.cnn.com</td>\n",
       "      <td>0</td>\n",
       "      <td>14</td>\n",
       "    </tr>\n",
       "    <tr>\n",
       "      <td>money.cnn.com</td>\n",
       "      <td>0</td>\n",
       "      <td>49</td>\n",
       "    </tr>\n",
       "    <tr>\n",
       "      <td>reuters.com</td>\n",
       "      <td>0</td>\n",
       "      <td>1</td>\n",
       "    </tr>\n",
       "    <tr>\n",
       "      <td>thelab.bleacherreport.com</td>\n",
       "      <td>0</td>\n",
       "      <td>1</td>\n",
       "    </tr>\n",
       "    <tr>\n",
       "      <td>www.activistpost.com</td>\n",
       "      <td>271</td>\n",
       "      <td>0</td>\n",
       "    </tr>\n",
       "    <tr>\n",
       "      <td>www.bbc.co.uk</td>\n",
       "      <td>0</td>\n",
       "      <td>10</td>\n",
       "    </tr>\n",
       "    <tr>\n",
       "      <td>www.bbc.com</td>\n",
       "      <td>0</td>\n",
       "      <td>333</td>\n",
       "    </tr>\n",
       "    <tr>\n",
       "      <td>www.cnn.com</td>\n",
       "      <td>0</td>\n",
       "      <td>389</td>\n",
       "    </tr>\n",
       "    <tr>\n",
       "      <td>www.disclose.tv</td>\n",
       "      <td>71</td>\n",
       "      <td>0</td>\n",
       "    </tr>\n",
       "    <tr>\n",
       "      <td>www.nytimes.com</td>\n",
       "      <td>0</td>\n",
       "      <td>344</td>\n",
       "    </tr>\n",
       "    <tr>\n",
       "      <td>www.reuters.com</td>\n",
       "      <td>0</td>\n",
       "      <td>646</td>\n",
       "    </tr>\n",
       "  </tbody>\n",
       "</table>\n",
       "</div>"
      ],
      "text/plain": [
       "Label                         0    1\n",
       "website                             \n",
       "abcnews.go.com                0   57\n",
       "api.content-ad.net            2    0\n",
       "beforeitsnews.com          1694    0\n",
       "bleacherreport.com            0    8\n",
       "clarivate.com                 0    3\n",
       "cnn.it                        0    1\n",
       "dailybuzzlive.com            99    0\n",
       "edition.cnn.com               0   16\n",
       "inhealth.cnn.com              0   14\n",
       "money.cnn.com                 0   49\n",
       "reuters.com                   0    1\n",
       "thelab.bleacherreport.com     0    1\n",
       "www.activistpost.com        271    0\n",
       "www.bbc.co.uk                 0   10\n",
       "www.bbc.com                   0  333\n",
       "www.cnn.com                   0  389\n",
       "www.disclose.tv              71    0\n",
       "www.nytimes.com               0  344\n",
       "www.reuters.com               0  646"
      ]
     },
     "execution_count": 4,
     "metadata": {},
     "output_type": "execute_result"
    }
   ],
   "source": [
    "df['website'] = df.URLs.apply(lambda x: x.split('/')[2])\n",
    "df.pivot_table(index = 'website', columns = 'Label', values = 'URLs', aggfunc='count').fillna(0).astype(int)"
   ]
  },
  {
   "cell_type": "code",
   "execution_count": 5,
   "metadata": {},
   "outputs": [
    {
     "data": {
      "image/png": "[encoded data removed]",
      "text/plain": [
       "<Figure size 216x144 with 1 Axes>"
      ]
     },
     "metadata": {},
     "output_type": "display_data"
    }
   ],
   "source": [
    "sns.set_style(\"white\")\n",
    "sns.set_palette('Set2')\n",
    "fig, ax=plt.subplots(figsize=(3, 2))\n",
    "ax = sns.countplot(df.Label)\n",
    "fig.show()"
   ]
  },
  {
   "cell_type": "code",
   "execution_count": 6,
   "metadata": {},
   "outputs": [],
   "source": [
    "df['text'] = df['Headline'] + \" \" + df['Body']\n",
    "df = df.drop(columns = ['Headline', 'Body'])\n",
    "df = df.loc[~df['text'].isna()] # "
   ]
  },
  {
   "cell_type": "code",
   "execution_count": 7,
   "metadata": {},
   "outputs": [
    {
     "name": "stderr",
     "output_type": "stream",
     "text": [
      "[nltk_data] Downloading package stopwords to\n",
      "[nltk_data]     C:\\Users\\Hp\\AppData\\Roaming\\nltk_data...\n",
      "[nltk_data]   Package stopwords is already up-to-date!\n"
     ]
    },
    {
     "data": {
      "text/plain": [
       "True"
      ]
     },
     "execution_count": 7,
     "metadata": {},
     "output_type": "execute_result"
    }
   ],
   "source": [
    "import nltk\n",
    "nltk.download('stopwords')"
   ]
  },
  {
   "cell_type": "code",
   "execution_count": 8,
   "metadata": {},
   "outputs": [
    {
     "name": "stdout",
     "output_type": "stream",
     "text": [
      "Number of stopwords: 226\n"
     ]
    }
   ],
   "source": [
    "stop_words = set(stopwords.words('english'))\n",
    "to_remove = ['•', '!', '\"', '#', '”', '“', '$', '%', '&', \"'\", '–', '(', ')', '*', '+', ',', '-', '.', '/', ':', ';', '<', '=', '>', '?', '@', '[', '\\\\', ']', '^', '_', '`', '{', '|', '}', '~', '0', '1', '2', '3', '4', '5', '6', '7', '8', '9', '…']\n",
    "stop_words.update(to_remove)\n",
    "print('Number of stopwords:', len(stop_words))\n",
    "\n",
    "def clean_text(text):\n",
    "    text = text.lower()\n",
    "    text = re.sub(r'http\\S+', '', text)\n",
    "    text = re.sub('\\[[^]]*\\]', '', text)\n",
    "    text = (\" \").join([word for word in text.split() if not word in stop_words])\n",
    "    text = \"\".join([char for char in text if not char in to_remove])\n",
    "    return text\n",
    "\n",
    "df['text'] = df['text'].apply(clean_text)"
   ]
  },
  {
   "cell_type": "code",
   "execution_count": 9,
   "metadata": {},
   "outputs": [
    {
     "data": {
      "text/html": [
       "<div>\n",
       "<style scoped>\n",
       "    .dataframe tbody tr th:only-of-type {\n",
       "        vertical-align: middle;\n",
       "    }\n",
       "\n",
       "    .dataframe tbody tr th {\n",
       "        vertical-align: top;\n",
       "    }\n",
       "\n",
       "    .dataframe thead th {\n",
       "        text-align: right;\n",
       "    }\n",
       "</style>\n",
       "<table border=\"1\" class=\"dataframe\">\n",
       "  <thead>\n",
       "    <tr style=\"text-align: right;\">\n",
       "      <th>Fake</th>\n",
       "      <th>us</th>\n",
       "      <th>game</th>\n",
       "      <th>one</th>\n",
       "      <th>news</th>\n",
       "      <th>week</th>\n",
       "      <th>new</th>\n",
       "      <th>two</th>\n",
       "      <th>like</th>\n",
       "      <th>first</th>\n",
       "      <th>would</th>\n",
       "      <th>also</th>\n",
       "      <th>season</th>\n",
       "      <th>get</th>\n",
       "      <th>source</th>\n",
       "      <th>time</th>\n",
       "    </tr>\n",
       "  </thead>\n",
       "  <tbody>\n",
       "    <tr>\n",
       "      <td>Frequency</td>\n",
       "      <td>1956</td>\n",
       "      <td>1953</td>\n",
       "      <td>1950</td>\n",
       "      <td>1770</td>\n",
       "      <td>1751</td>\n",
       "      <td>1615</td>\n",
       "      <td>1574</td>\n",
       "      <td>1482</td>\n",
       "      <td>1468</td>\n",
       "      <td>1454</td>\n",
       "      <td>1449</td>\n",
       "      <td>1381</td>\n",
       "      <td>1220</td>\n",
       "      <td>1177</td>\n",
       "      <td>1161</td>\n",
       "    </tr>\n",
       "  </tbody>\n",
       "</table>\n",
       "</div>"
      ],
      "text/plain": [
       "Fake         us  game   one  news  week   new   two  like  first  would  also  \\\n",
       "Frequency  1956  1953  1950  1770  1751  1615  1574  1482   1468   1454  1449   \n",
       "\n",
       "Fake       season   get  source  time  \n",
       "Frequency    1381  1220    1177  1161  "
      ]
     },
     "metadata": {},
     "output_type": "display_data"
    },
    {
     "data": {
      "text/html": [
       "<div>\n",
       "<style scoped>\n",
       "    .dataframe tbody tr th:only-of-type {\n",
       "        vertical-align: middle;\n",
       "    }\n",
       "\n",
       "    .dataframe tbody tr th {\n",
       "        vertical-align: top;\n",
       "    }\n",
       "\n",
       "    .dataframe thead th {\n",
       "        text-align: right;\n",
       "    }\n",
       "</style>\n",
       "<table border=\"1\" class=\"dataframe\">\n",
       "  <thead>\n",
       "    <tr style=\"text-align: right;\">\n",
       "      <th>True</th>\n",
       "      <th>said</th>\n",
       "      <th>us</th>\n",
       "      <th>would</th>\n",
       "      <th>new</th>\n",
       "      <th>mr</th>\n",
       "      <th>one</th>\n",
       "      <th>also</th>\n",
       "      <th>trump</th>\n",
       "      <th>people</th>\n",
       "      <th>world</th>\n",
       "      <th>two</th>\n",
       "      <th>first</th>\n",
       "      <th>president</th>\n",
       "      <th>last</th>\n",
       "      <th>time</th>\n",
       "    </tr>\n",
       "  </thead>\n",
       "  <tbody>\n",
       "    <tr>\n",
       "      <td>Frequency</td>\n",
       "      <td>8401</td>\n",
       "      <td>2620</td>\n",
       "      <td>2580</td>\n",
       "      <td>2573</td>\n",
       "      <td>2504</td>\n",
       "      <td>2442</td>\n",
       "      <td>1958</td>\n",
       "      <td>1905</td>\n",
       "      <td>1850</td>\n",
       "      <td>1565</td>\n",
       "      <td>1554</td>\n",
       "      <td>1552</td>\n",
       "      <td>1552</td>\n",
       "      <td>1473</td>\n",
       "      <td>1462</td>\n",
       "    </tr>\n",
       "  </tbody>\n",
       "</table>\n",
       "</div>"
      ],
      "text/plain": [
       "True       said    us  would   new    mr   one  also  trump  people  world  \\\n",
       "Frequency  8401  2620   2580  2573  2504  2442  1958   1905    1850   1565   \n",
       "\n",
       "True        two  first  president  last  time  \n",
       "Frequency  1554   1552       1552  1473  1462  "
      ]
     },
     "metadata": {},
     "output_type": "display_data"
    }
   ],
   "source": [
    "def print_frequency(words, name):\n",
    "    counter = Counter(chain.from_iterable(words))\n",
    "    df_word_distribution = pd.DataFrame(counter.values(), index = counter.keys(), columns = ['Frequency'])\n",
    "    df_word_distribution.index = df_word_distribution.index.set_names(name)\n",
    "    df_word_distribution = df_word_distribution.sort_values(by = 'Frequency', ascending = False, axis=0)[:15]\n",
    "    df_word_distribution = df_word_distribution.pivot_table(columns = name)\n",
    "    df_word_distribution = df_word_distribution.sort_values(by = 'Frequency', ascending = False, axis=1)\n",
    "    display(df_word_distribution)\n",
    "    \n",
    "words_fake = [s.split() for s in df.loc[df.Label == 0]['text']]\n",
    "words_true = [s.split() for s in df.loc[df.Label == 1]['text']]\n",
    "print_frequency(words_fake, 'Fake')\n",
    "print_frequency(words_true, 'True')"
   ]
  },
  {
   "cell_type": "code",
   "execution_count": 10,
   "metadata": {},
   "outputs": [
    {
     "data": {
      "image/png": "[encoded data removed]",
      "text/plain": [
       "<Figure size 432x216 with 2 Axes>"
      ]
     },
     "metadata": {},
     "output_type": "display_data"
    }
   ],
   "source": [
    "fig,(ax1,ax2)=plt.subplots(1,2,figsize=(6,3))\n",
    "text_len=df[df.Label==1]['text'].str.split().map(lambda x: len(x))\n",
    "ax1.hist(text_len, bins = 50)\n",
    "ax1.set_title('True texts')\n",
    "text_len=df[df.Label==0]['text'].str.split().map(lambda x: len(x))\n",
    "ax2.hist(text_len, bins = 50)\n",
    "ax2.set_title('Fake texts')\n",
    "fig.suptitle('Number of words in texts', y=0)\n",
    "fig.show()"
   ]
  },
  {
   "cell_type": "code",
   "execution_count": 11,
   "metadata": {},
   "outputs": [],
   "source": [
    "text_train, text_test, y_train, y_test = train_test_split(df['text'], df['Label'], test_size = 0.2, random_state = 42) "
   ]
  },
  {
   "cell_type": "code",
   "execution_count": 12,
   "metadata": {},
   "outputs": [
    {
     "name": "stdout",
     "output_type": "stream",
     "text": [
      "Sive of vocabulary:  48852\n"
     ]
    }
   ],
   "source": [
    "size_embedding = 200 \n",
    "windows = 2 \n",
    "min_count = 1 \n",
    "maxlen = 1000 \n",
    "\n",
    "text_train_splited = [article.split() for article in text_train]\n",
    "w2v_model = gensim.models.Word2Vec(sentences = text_train_splited, \n",
    "                                   size = size_embedding, \n",
    "                                   window = windows, \n",
    "                                   min_count = min_count)\n",
    "\n",
    "tokenizer = Tokenizer()\n",
    "tokenizer.fit_on_texts(text_train_splited)\n",
    "text_train_tok = tokenizer.texts_to_sequences(text_train_splited)\n",
    "word_index = tokenizer.word_index\n",
    "print('Sive of vocabulary: ', len(word_index))\n",
    "\n",
    "text_train_tok_pad = pad_sequences(text_train_tok, maxlen=maxlen)"
   ]
  },
  {
   "cell_type": "code",
   "execution_count": 13,
   "metadata": {},
   "outputs": [],
   "source": [
    "def w2v_to_keras_weights(model, vocab):\n",
    "    vocab_size = len(vocab) + 1\n",
    "    weight_matrix = np.zeros((vocab_size, size_embedding))\n",
    "    for word, i in vocab.items():\n",
    "        weight_matrix[i] = model[word]\n",
    "    return weight_matrix\n",
    "\n",
    "embedding_vectors = w2v_to_keras_weights(w2v_model, word_index)"
   ]
  },
  {
   "cell_type": "code",
   "execution_count": 14,
   "metadata": {},
   "outputs": [],
   "source": [
    "def set_model(embedding_vectors):\n",
    "    model = Sequential()\n",
    "    model.add(Embedding(embedding_vectors.shape[0], \n",
    "                        output_dim=embedding_vectors.shape[1],\n",
    "                        weights=[embedding_vectors], \n",
    "                        input_length=maxlen, \n",
    "                        trainable=False))\n",
    "    model.add(LSTM(units=32))\n",
    "    model.add(Dense(1, activation='sigmoid'))\n",
    "    model.compile(optimizer='adam', loss='binary_crossentropy', metrics=['acc'])\n",
    "    return model"
   ]
  },
  {
   "cell_type": "code",
   "execution_count": 15,
   "metadata": {},
   "outputs": [
    {
     "name": "stdout",
     "output_type": "stream",
     "text": [
      "Model: \"sequential_1\"\n",
      "_________________________________________________________________\n",
      "Layer (type)                 Output Shape              Param #   \n",
      "=================================================================\n",
      "embedding_1 (Embedding)      (None, 1000, 200)         9770600   \n",
      "_________________________________________________________________\n",
      "lstm_1 (LSTM)                (None, 32)                29824     \n",
      "_________________________________________________________________\n",
      "dense_1 (Dense)              (None, 1)                 33        \n",
      "=================================================================\n",
      "Total params: 9,800,457\n",
      "Trainable params: 29,857\n",
      "Non-trainable params: 9,770,600\n",
      "_________________________________________________________________\n",
      "Train on 2552 samples, validate on 638 samples\n",
      "Epoch 1/30\n",
      "2552/2552 [==============================] - 170s 67ms/step - loss: 0.4137 - acc: 0.8311 - val_loss: 0.2646 - val_acc: 0.9107\n",
      "Epoch 2/30\n",
      "2552/2552 [==============================] - 165s 65ms/step - loss: 0.2273 - acc: 0.9122 - val_loss: 0.1992 - val_acc: 0.9169\n",
      "Epoch 3/30\n",
      "2552/2552 [==============================] - 166s 65ms/step - loss: 0.2003 - acc: 0.9275 - val_loss: 0.1787 - val_acc: 0.9436\n",
      "Epoch 4/30\n",
      "2552/2552 [==============================] - 167s 65ms/step - loss: 0.1729 - acc: 0.9357 - val_loss: 0.1507 - val_acc: 0.9467\n",
      "Epoch 5/30\n",
      "2552/2552 [==============================] - 169s 66ms/step - loss: 0.1426 - acc: 0.9463 - val_loss: 0.1395 - val_acc: 0.9498\n",
      "Epoch 6/30\n",
      "2552/2552 [==============================] - 168s 66ms/step - loss: 0.1293 - acc: 0.9495 - val_loss: 0.1615 - val_acc: 0.9404\n",
      "Epoch 7/30\n",
      "2552/2552 [==============================] - 166s 65ms/step - loss: 0.1047 - acc: 0.9596 - val_loss: 0.1329 - val_acc: 0.9530\n",
      "Epoch 8/30\n",
      "2552/2552 [==============================] - 166s 65ms/step - loss: 0.1141 - acc: 0.9553 - val_loss: 0.1374 - val_acc: 0.9451\n",
      "Epoch 9/30\n",
      "2552/2552 [==============================] - 167s 66ms/step - loss: 0.0820 - acc: 0.9694 - val_loss: 0.1214 - val_acc: 0.9671\n",
      "Epoch 10/30\n",
      "2552/2552 [==============================] - 167s 65ms/step - loss: 0.0836 - acc: 0.9714 - val_loss: 0.1521 - val_acc: 0.9404\n",
      "Epoch 11/30\n",
      "2552/2552 [==============================] - 168s 66ms/step - loss: 0.0722 - acc: 0.9757 - val_loss: 0.1655 - val_acc: 0.9451\n",
      "Epoch 12/30\n",
      "2552/2552 [==============================] - 169s 66ms/step - loss: 0.0642 - acc: 0.9792 - val_loss: 0.1196 - val_acc: 0.9592\n",
      "Epoch 13/30\n",
      "2552/2552 [==============================] - 167s 65ms/step - loss: 0.0605 - acc: 0.9796 - val_loss: 0.1601 - val_acc: 0.9498\n",
      "Epoch 14/30\n",
      "2552/2552 [==============================] - 166s 65ms/step - loss: 0.0638 - acc: 0.9788 - val_loss: 0.1340 - val_acc: 0.9545\n",
      "Epoch 15/30\n",
      "2552/2552 [==============================] - 165s 65ms/step - loss: 0.0523 - acc: 0.9843 - val_loss: 0.1234 - val_acc: 0.9561\n",
      "Epoch 16/30\n",
      "2552/2552 [==============================] - 169s 66ms/step - loss: 0.0460 - acc: 0.9847 - val_loss: 0.1453 - val_acc: 0.9561\n",
      "Epoch 17/30\n",
      "2552/2552 [==============================] - 164s 64ms/step - loss: 0.0726 - acc: 0.9737 - val_loss: 0.1175 - val_acc: 0.9655\n",
      "Epoch 18/30\n",
      "2552/2552 [==============================] - 167s 65ms/step - loss: 0.0387 - acc: 0.9879 - val_loss: 0.1437 - val_acc: 0.9608\n",
      "Epoch 19/30\n",
      "2552/2552 [==============================] - 169s 66ms/step - loss: 0.0384 - acc: 0.9898 - val_loss: 0.1589 - val_acc: 0.9530\n",
      "Epoch 20/30\n",
      "2552/2552 [==============================] - 166s 65ms/step - loss: 0.0397 - acc: 0.9879 - val_loss: 0.1443 - val_acc: 0.9483\n",
      "Epoch 21/30\n",
      "2552/2552 [==============================] - 169s 66ms/step - loss: 0.0335 - acc: 0.9902 - val_loss: 0.1282 - val_acc: 0.9608\n",
      "Epoch 22/30\n",
      "2552/2552 [==============================] - 173s 68ms/step - loss: 0.0237 - acc: 0.9945 - val_loss: 0.1337 - val_acc: 0.9624\n",
      "Epoch 23/30\n",
      "2552/2552 [==============================] - 166s 65ms/step - loss: 0.0297 - acc: 0.9922 - val_loss: 0.1654 - val_acc: 0.9624\n",
      "Epoch 24/30\n",
      "2552/2552 [==============================] - 175s 68ms/step - loss: 0.0298 - acc: 0.9918 - val_loss: 0.1454 - val_acc: 0.9608\n",
      "Epoch 25/30\n",
      "2552/2552 [==============================] - 171s 67ms/step - loss: 0.0251 - acc: 0.9910 - val_loss: 0.1450 - val_acc: 0.9498\n",
      "Epoch 26/30\n",
      "2552/2552 [==============================] - 168s 66ms/step - loss: 0.0224 - acc: 0.9922 - val_loss: 0.2438 - val_acc: 0.9201\n",
      "Epoch 27/30\n",
      "2552/2552 [==============================] - 170s 67ms/step - loss: 0.0363 - acc: 0.9871 - val_loss: 0.1265 - val_acc: 0.9671\n",
      "Epoch 28/30\n",
      "2552/2552 [==============================] - 166s 65ms/step - loss: 0.0159 - acc: 0.9965 - val_loss: 0.1344 - val_acc: 0.9687\n",
      "Epoch 29/30\n",
      "2552/2552 [==============================] - 170s 66ms/step - loss: 0.0129 - acc: 0.9969 - val_loss: 0.1393 - val_acc: 0.9655\n",
      "Epoch 30/30\n",
      "2552/2552 [==============================] - 164s 64ms/step - loss: 0.0098 - acc: 0.9984 - val_loss: 0.1481 - val_acc: 0.9639\n"
     ]
    }
   ],
   "source": [
    "model = set_model(embedding_vectors = embedding_vectors)\n",
    "model.summary()\n",
    "\n",
    "history = model.fit(text_train_tok_pad, y_train, validation_split=0.2, epochs=30, batch_size = 32, verbose = 1)"
   ]
  },
  {
   "cell_type": "code",
   "execution_count": 16,
   "metadata": {},
   "outputs": [
    {
     "data": {
      "image/png": "[encoded data removed]",
      "text/plain": [
       "<Figure size 504x216 with 2 Axes>"
      ]
     },
     "metadata": {},
     "output_type": "display_data"
    }
   ],
   "source": [
    "def plot_loss_epochs(history):\n",
    "    epochs = np.arange(1,len(history.history['acc']) + 1,1)\n",
    "    train_acc = history.history['acc']\n",
    "    train_loss = history.history['loss']\n",
    "    val_acc = history.history['val_acc']\n",
    "    val_loss = history.history['val_loss']\n",
    "\n",
    "    fig , ax = plt.subplots(1,2, figsize=(7,3))\n",
    "    ax[0].plot(epochs , train_acc , '.-' , label = 'Train Accuracy')\n",
    "    ax[0].plot(epochs , val_acc , '.-' , label = 'Validation Accuracy')\n",
    "    ax[0].set_title('Train & Validation Accuracy')\n",
    "    ax[0].legend()\n",
    "    ax[0].set_xlabel(\"Epochs\")\n",
    "    ax[0].set_ylabel(\"Accuracy\")\n",
    "\n",
    "    ax[1].plot(epochs , train_loss , '.-' , label = 'Train Loss')\n",
    "    ax[1].plot(epochs , val_loss , '.-' , label = 'Validation Loss')\n",
    "    ax[1].set_title('Train & Validation Loss')\n",
    "    ax[1].legend()\n",
    "    ax[1].set_xlabel(\"Epochs\")\n",
    "    ax[1].set_ylabel(\"Loss\")\n",
    "    fig.tight_layout()\n",
    "    fig.show()\n",
    "    \n",
    "plot_loss_epochs(history)"
   ]
  },
  {
   "cell_type": "code",
   "execution_count": null,
   "metadata": {},
   "outputs": [],
   "source": [
    "model.fit(text_train_tok_pad, y_train, epochs=15, batch_size = 16, verbose = 0)\n"
   ]
  },
  {
   "cell_type": "code",
   "execution_count": null,
   "metadata": {},
   "outputs": [],
   "source": [
    "text_train_splited = [article.split() for article in text_test]\n",
    "text_test_tok = tokenizer.texts_to_sequences(text_train_splited)\n",
    "text_test_tok_pad = pad_sequences(text_test_tok, maxlen=maxlen)\n",
    "pred = (model.predict(text_test_tok_pad) > 0.5).astype(\"int32\")\n",
    "\n",
    "print(classification_report(y_test, pred, target_names = ['Fake','Not Fake'])) \n",
    "cm = pd.DataFrame(confusion_matrix(y_test,pred))\n",
    "\n",
    "fig , ax = plt.subplots(figsize = (2,2))\n",
    "ax = sns.heatmap(cm, annot = True, xticklabels = ['Fake','True'] , yticklabels = ['Fake','True'], cbar = False, fmt='')\n",
    "ax.set_xlabel(\"Predicted\"); ax.set_ylabel(\"Actual\"); fig.show()"
   ]
  },
  {
   "cell_type": "code",
   "execution_count": null,
   "metadata": {},
   "outputs": [],
   "source": []
  }
 ],
 "metadata": {
  "kernelspec": {
   "display_name": "Python 3",
   "language": "python",
   "name": "python3"
  },
  "language_info": {
   "codemirror_mode": {
    "name": "ipython",
    "version": 3
   },
   "file_extension": ".py",
   "mimetype": "text/x-python",
   "name": "python",
   "nbconvert_exporter": "python",
   "pygments_lexer": "ipython3",
   "version": "3.7.4"
  }
 },
 "nbformat": 4,
 "nbformat_minor": 2
}
